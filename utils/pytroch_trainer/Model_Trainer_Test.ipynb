{
 "cells": [
  {
   "cell_type": "code",
   "id": "8dba7ae5dc73f1a1",
   "metadata": {
    "ExecuteTime": {
     "end_time": "2025-08-28T10:21:37.464118Z",
     "start_time": "2025-08-28T10:21:37.446972Z"
    }
   },
   "source": [
    "# Änderungen am Script werden nicht automatisch übernommen, daher: Neu laden!\n",
    "import importlib\n",
    "import model_trainer\n",
    "importlib.reload(model_trainer)\n",
    "from model_trainer import Trainer, TensorBoardLogger\n",
    "\n",
    "from torchvision import datasets, transforms\n",
    "import torch\n",
    "import torch.nn as nn\n",
    "import torch.optim as optim"
   ],
   "outputs": [],
   "execution_count": 6
  },
  {
   "metadata": {
    "ExecuteTime": {
     "end_time": "2025-08-28T10:21:37.500355Z",
     "start_time": "2025-08-28T10:21:37.472428Z"
    }
   },
   "cell_type": "code",
   "source": [
    "batch_size = 64\n",
    "learning_rate  = 0.01\n",
    "epochs = 5\n",
    "\n",
    "# Transformation: Flatten + Tensor\n",
    "transform = transforms.Compose([\n",
    "    transforms.ToTensor(),\n",
    "    transforms.Lambda(lambda x: x.reshape(-1))\n",
    "])\n",
    "\n",
    "train_dataset = datasets.MNIST(root='./data', train=True, download=True, transform=transform)\n",
    "test_dataset = datasets.MNIST(root='./data', train=False, download=True, transform=transform)\n",
    "\n",
    "train_loader = torch.utils.data.DataLoader(train_dataset, batch_size=batch_size, shuffle=True)\n",
    "test_loader = torch.utils.data.DataLoader(test_dataset, batch_size=batch_size, shuffle=False)"
   ],
   "id": "c7b9bab5ad216a84",
   "outputs": [],
   "execution_count": 7
  },
  {
   "metadata": {
    "ExecuteTime": {
     "end_time": "2025-08-28T10:21:37.516327Z",
     "start_time": "2025-08-28T10:21:37.509866Z"
    }
   },
   "cell_type": "code",
   "source": [
    "model = nn.Sequential( #nn.Flatten() hier obsolet, da in transform druchgeführt\n",
    "    nn.Linear(28*28, 128),\n",
    "    nn.ReLU(),\n",
    "    nn.Linear(128, 10)\n",
    ")\n",
    "criterion = nn.CrossEntropyLoss()\n",
    "optimizer = optim.Adam(model.parameters(), lr=learning_rate) # -> default"
   ],
   "id": "330c7ac463714863",
   "outputs": [],
   "execution_count": 8
  },
  {
   "metadata": {
    "ExecuteTime": {
     "end_time": "2025-08-28T10:22:12.988994Z",
     "start_time": "2025-08-28T10:21:37.526867Z"
    }
   },
   "cell_type": "code",
   "source": [
    "logger = TensorBoardLogger(\"runs/mnist_model_trainer_Test\")\n",
    "callbacks = [logger]\n",
    "\n",
    "trainer = Trainer(\n",
    "    model,\n",
    "    train_loader,\n",
    "    test_loader,\n",
    "    criterion,\n",
    "    optimizer,\n",
    "    device=\"cpu\",\n",
    "    callbacks=callbacks\n",
    ")\n",
    "\n",
    "trainer.train(num_epochs=epochs)\n",
    "trainer.evaluate()\n"
   ],
   "id": "initial_id",
   "outputs": [
    {
     "name": "stdout",
     "output_type": "stream",
     "text": [
      "Start Training: num_epochs=5\n",
      "Epoch [1/5] Loss: 0.2200\n",
      "Epoch [2/5] Loss: 0.1288\n",
      "Epoch [3/5] Loss: 0.1110\n",
      "Epoch [4/5] Loss: 0.1017\n",
      "Epoch [5/5] Loss: 0.0887\n",
      "#######\n",
      "TensorBoard Logs: runs/mnist_model_trainer_Test\n",
      "Start TensorBoard: tensorboard --logdir runs/mnist_model_trainer_Test\n",
      "########\n",
      "Accuracy: 96.66%\n"
     ]
    },
    {
     "data": {
      "text/plain": [
       "96.66"
      ]
     },
     "execution_count": 9,
     "metadata": {},
     "output_type": "execute_result"
    }
   ],
   "execution_count": 9
  },
  {
   "metadata": {
    "ExecuteTime": {
     "end_time": "2025-08-28T10:22:13.058046Z",
     "start_time": "2025-08-28T10:22:13.045088Z"
    }
   },
   "cell_type": "code",
   "source": [
    "%reload_ext tensorboard\n",
    "%tensorboard --logdir runs/mnist_model_trainer_Test"
   ],
   "id": "18689608daaa31f9",
   "outputs": [
    {
     "data": {
      "text/plain": [
       "Reusing TensorBoard on port 6006 (pid 8240), started 1:04:57 ago. (Use '!kill 8240' to kill it.)"
      ]
     },
     "metadata": {},
     "output_type": "display_data"
    },
    {
     "data": {
      "text/plain": [
       "<IPython.core.display.HTML object>"
      ],
      "text/html": [
       "\n",
       "      <iframe id=\"tensorboard-frame-1fc4e67406d3c65d\" width=\"100%\" height=\"800\" frameborder=\"0\">\n",
       "      </iframe>\n",
       "      <script>\n",
       "        (function() {\n",
       "          const frame = document.getElementById(\"tensorboard-frame-1fc4e67406d3c65d\");\n",
       "          const url = new URL(\"/\", window.location);\n",
       "          const port = 6006;\n",
       "          if (port) {\n",
       "            url.port = port;\n",
       "          }\n",
       "          frame.src = url;\n",
       "        })();\n",
       "      </script>\n",
       "    "
      ]
     },
     "metadata": {},
     "output_type": "display_data"
    }
   ],
   "execution_count": 10
  },
  {
   "metadata": {
    "ExecuteTime": {
     "end_time": "2025-08-28T10:22:13.108609Z",
     "start_time": "2025-08-28T10:22:13.105675Z"
    }
   },
   "cell_type": "code",
   "source": "",
   "id": "eda74f031a82972",
   "outputs": [],
   "execution_count": null
  }
 ],
 "metadata": {
  "kernelspec": {
   "display_name": "Python 3",
   "language": "python",
   "name": "python3"
  },
  "language_info": {
   "codemirror_mode": {
    "name": "ipython",
    "version": 2
   },
   "file_extension": ".py",
   "mimetype": "text/x-python",
   "name": "python",
   "nbconvert_exporter": "python",
   "pygments_lexer": "ipython2",
   "version": "2.7.6"
  }
 },
 "nbformat": 4,
 "nbformat_minor": 5
}
